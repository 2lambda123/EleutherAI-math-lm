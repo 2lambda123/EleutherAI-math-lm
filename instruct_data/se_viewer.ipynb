{
 "cells": [
  {
   "cell_type": "code",
   "execution_count": null,
   "metadata": {},
   "outputs": [],
   "source": [
    "import yaml\n",
    "import json\n",
    "import os\n",
    "import ipywidgets as widgets\n",
    "from IPython.display import display, Markdown, HTML, clear_output\n"
   ]
  },
  {
   "cell_type": "code",
   "execution_count": null,
   "metadata": {},
   "outputs": [],
   "source": [
    "import importlib\n",
    "data_gui = importlib.import_module('data_gui')\n",
    "display_item = getattr(data_gui, 'display_item')"
   ]
  },
  {
   "cell_type": "code",
   "execution_count": null,
   "metadata": {},
   "outputs": [],
   "source": [
    "def load_stackexchange(filepath):\n",
    "    data = []\n",
    "    with open(filepath) as fle:\n",
    "        for line in fle:\n",
    "            row = json.loads(line)\n",
    "            row[\"text\"] = \"---INPUT:\\n\\n\" + row[\"input\"] + \"\\n\\n---OUTPUT:\\n\" + row[\"output\"]\n",
    "            row[\"id\"] = row[\"meta\"][\"post_id\"]\n",
    "            data.append(row)\n",
    "    return data"
   ]
  },
  {
   "cell_type": "code",
   "execution_count": null,
   "metadata": {},
   "outputs": [],
   "source": [
    "data_file = \"filtered-stack-exchange/math_33votes.jsonl\"\n",
    "judgement_file = \"human-judgements/math_judgements.yaml\"\n",
    "se_data = load_stackexchange(data_file)\n",
    "print(se_data)\n",
    "\n",
    "display_item(se_data, judgement_file=judgement_file, index=0)"
   ]
  }
 ],
 "metadata": {
  "kernelspec": {
   "display_name": "Python 3",
   "language": "python",
   "name": "python3"
  },
  "language_info": {
   "codemirror_mode": {
    "name": "ipython",
    "version": 3
   },
   "file_extension": ".py",
   "mimetype": "text/x-python",
   "name": "python",
   "nbconvert_exporter": "python",
   "pygments_lexer": "ipython3",
   "version": "3.10.9"
  }
 },
 "nbformat": 4,
 "nbformat_minor": 2
}
