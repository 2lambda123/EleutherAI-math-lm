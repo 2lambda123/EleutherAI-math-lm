{
 "cells": [
  {
   "cell_type": "code",
   "execution_count": null,
   "metadata": {},
   "outputs": [],
   "source": [
    "import json\n",
    "from copy import deepcopy\n",
    "import random\n",
    "\n",
    "from typing import List, Dict\n",
    "\n",
    "from tqdm import tqdm\n",
    "import ipywidgets as widgets\n",
    "from IPython.display import Markdown, display, clear_output"
   ]
  },
  {
   "cell_type": "code",
   "execution_count": null,
   "metadata": {},
   "outputs": [],
   "source": [
    "def str_of_row(row):\n",
    "    return \"---INPUT:\\n\\n\" + row[\"input\"] + \"\\n\\n---OUTPUT:\\n\\n\" + row[\"output\"]"
   ]
  },
  {
   "cell_type": "code",
   "execution_count": null,
   "metadata": {},
   "outputs": [],
   "source": [
    "def display_item(data, index=0):\n",
    "    clear_output(wait=True)\n",
    "    item = data[index]\n",
    "    text_display = Markdown(str_of_row(item))\n",
    "\n",
    "    # Creating the buttons\n",
    "    next_button = widgets.Button(description=\"Next\")\n",
    "    prev_button = widgets.Button(description=\"Previous\")\n",
    "\n",
    "    # Navigate through the dataset\n",
    "    def navigate(step):\n",
    "        nonlocal index\n",
    "        index = min(max(0, index + step), len(data) - 1)\n",
    "        display_item(data, index)\n",
    "\n",
    "    next_button.on_click(lambda b: navigate(1))\n",
    "    prev_button.on_click(lambda b: navigate(-1))\n",
    "\n",
    "    # Displaying the components\n",
    "    button_box = widgets.HBox([prev_button, next_button])\n",
    "    display(button_box)\n",
    "    display(text_display)\n",
    "    display(Markdown(f\"ID: {item['meta']['id']}\"))\n",
    "    display(Markdown(f\"{index}/{len(data)}\"))\n",
    "    display(Markdown(f\"Category: {item['meta']['category']}\"))\n",
    "    # display(f\"Raw problem: {item['problem']}\")\n",
    "    # display(f\"Raw hints: {item['hints']}\")\n",
    "    if \"raw\" in item:\n",
    "        display(item[\"raw\"])"
   ]
  },
  {
   "cell_type": "markdown",
   "metadata": {},
   "source": [
    "# Prefiltered data"
   ]
  },
  {
   "cell_type": "code",
   "execution_count": null,
   "metadata": {},
   "outputs": [],
   "source": [
    "with open(\"khan-prefiltered/prefiltered.jsonl\") as f:\n",
    "    data = [json.loads(x) for x in f]\n",
    "nav = display_item(data, index=0)"
   ]
  },
  {
   "cell_type": "markdown",
   "metadata": {},
   "source": [
    "# GPT-3.5 cleaned data"
   ]
  },
  {
   "cell_type": "code",
   "execution_count": null,
   "metadata": {},
   "outputs": [],
   "source": [
    "# too late to make this repo a package\n",
    "import importlib\n",
    "data_gui = importlib.import_module('data_gui')\n",
    "display_item = getattr(data_gui, 'display_item')"
   ]
  },
  {
   "cell_type": "code",
   "execution_count": null,
   "metadata": {},
   "outputs": [],
   "source": [
    "with open(\"khan-clean/clean.jsonl\") as f:\n",
    "    data = [json.loads(x) for x in f]\n",
    "\n",
    "for i in range(len(data)):\n",
    "    data[i][\"text\"] = \"---Question:\\n\\n\" + data[i][\"input\"] + \"\\n\\n---Solution:\\n\\n\" + \\\n",
    "        data[i][\"output\"]\n",
    "    data[i][\"id\"] = data[i][\"meta\"][\"id\"]\n"
   ]
  },
  {
   "cell_type": "code",
   "execution_count": null,
   "metadata": {},
   "outputs": [],
   "source": [
    "\n",
    "display_item(data, \"khan-judgements/judgements.yaml\", index=0)"
   ]
  }
 ],
 "metadata": {
  "kernelspec": {
   "display_name": "ml-projects",
   "language": "python",
   "name": "python3"
  },
  "language_info": {
   "codemirror_mode": {
    "name": "ipython",
    "version": 3
   },
   "file_extension": ".py",
   "mimetype": "text/x-python",
   "name": "python",
   "nbconvert_exporter": "python",
   "pygments_lexer": "ipython3",
   "version": "3.10.9"
  }
 },
 "nbformat": 4,
 "nbformat_minor": 2
}
